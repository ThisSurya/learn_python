{
 "cells": [
  {
   "cell_type": "markdown",
   "id": "1adec46e",
   "metadata": {},
   "source": [
    "default parameter, the parameter become opsional. You can fill it or not"
   ]
  },
  {
   "cell_type": "code",
   "execution_count": 6,
   "id": "62aa677f",
   "metadata": {},
   "outputs": [],
   "source": [
    "def say_hello(word='Default'): # if the parameter sender is null the Default will used\n",
    "    print('Hello ' + word)"
   ]
  },
  {
   "cell_type": "code",
   "execution_count": 7,
   "id": "eaaa24ab",
   "metadata": {},
   "outputs": [
    {
     "name": "stdout",
     "output_type": "stream",
     "text": [
      "Hello Default\n"
     ]
    }
   ],
   "source": [
    "say_hello()"
   ]
  }
 ],
 "metadata": {
  "kernelspec": {
   "display_name": "Python 3 (ipykernel)",
   "language": "python",
   "name": "python3"
  },
  "language_info": {
   "codemirror_mode": {
    "name": "ipython",
    "version": 3
   },
   "file_extension": ".py",
   "mimetype": "text/x-python",
   "name": "python",
   "nbconvert_exporter": "python",
   "pygments_lexer": "ipython3",
   "version": "3.11.3"
  }
 },
 "nbformat": 4,
 "nbformat_minor": 5
}
