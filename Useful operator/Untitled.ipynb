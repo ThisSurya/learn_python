{
 "cells": [
  {
   "cell_type": "code",
   "execution_count": 6,
   "id": "b5e5d191",
   "metadata": {},
   "outputs": [],
   "source": [
    "# one argument is limit the loops, 2 argument start index, limit. 3 argument start index, limit, iterate++\n",
    "for num in range(10):\n",
    "    print(num) # 0, 1, 2, 3, 4, 5, 6 ....."
   ]
  },
  {
   "cell_type": "code",
   "execution_count": null,
   "id": "514500f3",
   "metadata": {},
   "outputs": [],
   "source": [
    "for num in range(2, 10):\n",
    "    print(num) # 2, 3, 4, 5, 6, 7, 8, 9"
   ]
  },
  {
   "cell_type": "code",
   "execution_count": null,
   "id": "64f36547",
   "metadata": {},
   "outputs": [],
   "source": [
    "for num in range(2, 10, 3):\n",
    "    print(num) # 2, 5, 8"
   ]
  },
  {
   "cell_type": "markdown",
   "id": "5e9fade6",
   "metadata": {},
   "source": [
    "Enumerate with loop give tuple!"
   ]
  },
  {
   "cell_type": "code",
   "execution_count": null,
   "id": "398eeef9",
   "metadata": {},
   "outputs": [],
   "source": [
    "for a, b in enumerate('Hello'):\n",
    "    print(f'{a} {b}') # give output (a, b), (c, d) .... etc"
   ]
  },
  {
   "cell_type": "markdown",
   "id": "f4a38e4a",
   "metadata": {},
   "source": [
    "packing 2 list "
   ]
  },
  {
   "cell_type": "code",
   "execution_count": 14,
   "id": "57367785",
   "metadata": {},
   "outputs": [
    {
     "name": "stdout",
     "output_type": "stream",
     "text": [
      "(1, 'a')\n",
      "(2, 'b')\n",
      "(3, 'c')\n",
      "(4, 'd')\n"
     ]
    }
   ],
   "source": [
    "my_list = [1, 2, 3, 4]\n",
    "another_list = ['a', 'b', 'c', 'd']\n",
    "for item in zip(my_list,another_list):\n",
    "    print(item)"
   ]
  },
  {
   "cell_type": "markdown",
   "id": "d9e8646d",
   "metadata": {},
   "source": [
    "How to check with some case in array:"
   ]
  },
  {
   "cell_type": "code",
   "execution_count": null,
   "id": "5fbf8a2a",
   "metadata": {},
   "outputs": [],
   "source": [
    "1 in [1, 2, 3, 4, 5, 6, 7, 8] #list case integer output true"
   ]
  },
  {
   "cell_type": "code",
   "execution_count": null,
   "id": "9982574a",
   "metadata": {},
   "outputs": [],
   "source": [
    "'x' in ['a', 'b', 'c', 'd', 'x', 'y', 'z'] #case char output true"
   ]
  },
  {
   "cell_type": "code",
   "execution_count": null,
   "id": "aaf943c6",
   "metadata": {},
   "outputs": [],
   "source": [
    "'a' in 'surya' #case string output true"
   ]
  },
  {
   "cell_type": "code",
   "execution_count": 19,
   "id": "da609c3f",
   "metadata": {},
   "outputs": [
    {
     "data": {
      "text/plain": [
       "False"
      ]
     },
     "execution_count": 19,
     "metadata": {},
     "output_type": "execute_result"
    }
   ],
   "source": [
    "'key1' in {'key1' : 'value1'} # case dictionary only find key"
   ]
  },
  {
   "cell_type": "code",
   "execution_count": null,
   "id": "3ce91af2",
   "metadata": {},
   "outputs": [],
   "source": [
    "d = {'key1' : 'value1'}\n",
    "'value1' in d.values() # true, must use values() in case dictionary but value"
   ]
  },
  {
   "cell_type": "markdown",
   "id": "b1814849",
   "metadata": {},
   "source": [
    "Method max() min()"
   ]
  },
  {
   "cell_type": "code",
   "execution_count": 23,
   "id": "176c2c7d",
   "metadata": {},
   "outputs": [],
   "source": [
    "my_num = [10, 20, 30, 40]"
   ]
  },
  {
   "cell_type": "code",
   "execution_count": null,
   "id": "8007903c",
   "metadata": {},
   "outputs": [],
   "source": [
    "min(my_num) # 10"
   ]
  },
  {
   "cell_type": "code",
   "execution_count": null,
   "id": "c585352f",
   "metadata": {},
   "outputs": [],
   "source": [
    "max(my_num) # 40"
   ]
  },
  {
   "cell_type": "markdown",
   "id": "bf84e25b",
   "metadata": {},
   "source": [
    "Import from libray"
   ]
  },
  {
   "cell_type": "code",
   "execution_count": 25,
   "id": "de57eca6",
   "metadata": {},
   "outputs": [],
   "source": [
    "from random import shuffle"
   ]
  },
  {
   "cell_type": "code",
   "execution_count": 27,
   "id": "439994d8",
   "metadata": {},
   "outputs": [],
   "source": [
    "my_num = [10, 20, 30, 40]\n",
    "shuffle(my_num) # shuffle your list"
   ]
  },
  {
   "cell_type": "code",
   "execution_count": null,
   "id": "219b5a4d",
   "metadata": {},
   "outputs": [],
   "source": [
    "from random import randint\n",
    "randint(10,80) #give random number randint(min value, max value)"
   ]
  }
 ],
 "metadata": {
  "kernelspec": {
   "display_name": "Python 3 (ipykernel)",
   "language": "python",
   "name": "python3"
  },
  "language_info": {
   "codemirror_mode": {
    "name": "ipython",
    "version": 3
   },
   "file_extension": ".py",
   "mimetype": "text/x-python",
   "name": "python",
   "nbconvert_exporter": "python",
   "pygments_lexer": "ipython3",
   "version": "3.11.3"
  }
 },
 "nbformat": 4,
 "nbformat_minor": 5
}
