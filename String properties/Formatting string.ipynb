{
 "cells": [
  {
   "cell_type": "markdown",
   "id": "06d7d0fd",
   "metadata": {},
   "source": [
    "Print Formatting with strings"
   ]
  },
  {
   "cell_type": "markdown",
   "id": "4a892148",
   "metadata": {},
   "source": [
    "Method format() "
   ]
  },
  {
   "cell_type": "code",
   "execution_count": null,
   "id": "704d1004",
   "metadata": {},
   "outputs": [],
   "source": [
    "\"This is {}\".format(\"sunday\") # This is sunday"
   ]
  },
  {
   "cell_type": "markdown",
   "id": "fefcd067",
   "metadata": {},
   "source": [
    "Multiple"
   ]
  },
  {
   "cell_type": "code",
   "execution_count": null,
   "id": "24ce2f82",
   "metadata": {},
   "outputs": [],
   "source": [
    "\"This is {} {}\".format(\"sunday\", \"time to chill bro\") # This is sunday time to chill bro"
   ]
  },
  {
   "cell_type": "markdown",
   "id": "913f7a7e",
   "metadata": {},
   "source": [
    "With index combination"
   ]
  },
  {
   "cell_type": "code",
   "execution_count": null,
   "id": "b9ea038b",
   "metadata": {},
   "outputs": [],
   "source": [
    "\"The {1} {0} {2}\".format(\"brown\", \"quick\", \"fox\") \n",
    "# index inside curl brace. the index (0 = \"brown\", 1 = \"quick\", 2 = \"fox\")\n",
    "# Output: \"The quick brown fox\""
   ]
  },
  {
   "cell_type": "code",
   "execution_count": null,
   "id": "a2ba9c6b",
   "metadata": {},
   "outputs": [],
   "source": [
    "\"The {b} {a} {c}\".format(a = \"brown\", b = \"quick\", c = \"fox\") # The quick brown fox"
   ]
  },
  {
   "cell_type": "markdown",
   "id": "a3a8244a",
   "metadata": {},
   "source": [
    "Combination with number (int, float etc) the format:\n",
    "{key:width.precisionf}"
   ]
  },
  {
   "cell_type": "code",
   "execution_count": 23,
   "id": "5bef28d6",
   "metadata": {},
   "outputs": [],
   "source": [
    "result = 19/3"
   ]
  },
  {
   "cell_type": "code",
   "execution_count": 35,
   "id": "f511478b",
   "metadata": {},
   "outputs": [
    {
     "name": "stdout",
     "output_type": "stream",
     "text": [
      "19 / 3 is 6.3333\n"
     ]
    }
   ],
   "source": [
    "print(\"19 / 3 is {number:1.4f}\".format(number = result))"
   ]
  },
  {
   "cell_type": "markdown",
   "id": "b2bca205",
   "metadata": {},
   "source": [
    "Faster ways to user format()"
   ]
  },
  {
   "cell_type": "code",
   "execution_count": 38,
   "id": "7e0a1e7c",
   "metadata": {},
   "outputs": [
    {
     "name": "stdout",
     "output_type": "stream",
     "text": [
      "19 / 3 is 6.333\n"
     ]
    }
   ],
   "source": [
    "print(f\"19 / 3 is {result:1.3f}\")"
   ]
  },
  {
   "cell_type": "code",
   "execution_count": null,
   "id": "938a75bf",
   "metadata": {},
   "outputs": [],
   "source": []
  }
 ],
 "metadata": {
  "kernelspec": {
   "display_name": "Python 3 (ipykernel)",
   "language": "python",
   "name": "python3"
  },
  "language_info": {
   "codemirror_mode": {
    "name": "ipython",
    "version": 3
   },
   "file_extension": ".py",
   "mimetype": "text/x-python",
   "name": "python",
   "nbconvert_exporter": "python",
   "pygments_lexer": "ipython3",
   "version": "3.11.3"
  }
 },
 "nbformat": 4,
 "nbformat_minor": 5
}
