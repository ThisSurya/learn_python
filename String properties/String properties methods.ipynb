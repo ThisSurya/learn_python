{
 "cells": [
  {
   "cell_type": "markdown",
   "id": "faec2564",
   "metadata": {},
   "source": [
    "STRING IN PYTHON IS IMMUTABILITY (tidak bisa diubah perhuruf berdasarkan index)"
   ]
  },
  {
   "cell_type": "markdown",
   "id": "b8881b1b",
   "metadata": {},
   "source": [
    "EX"
   ]
  },
  {
   "cell_type": "code",
   "execution_count": 1,
   "id": "c02cdbfc",
   "metadata": {},
   "outputs": [],
   "source": [
    "namaku = \"Michael Surya\""
   ]
  },
  {
   "cell_type": "code",
   "execution_count": null,
   "id": "01f40853",
   "metadata": {},
   "outputs": [],
   "source": [
    "namaku[0] = \"S\" #error"
   ]
  },
  {
   "cell_type": "code",
   "execution_count": 4,
   "id": "21fe855b",
   "metadata": {},
   "outputs": [],
   "source": [
    "#Metode yang efektif: penggabungan"
   ]
  },
  {
   "cell_type": "code",
   "execution_count": 5,
   "id": "2d8cac01",
   "metadata": {},
   "outputs": [],
   "source": [
    "nama_akhir = namaku[8:] "
   ]
  },
  {
   "cell_type": "code",
   "execution_count": 18,
   "id": "e7998be9",
   "metadata": {},
   "outputs": [],
   "source": [
    "nama_baru = \"Mikhail \" + nama_akhir "
   ]
  },
  {
   "cell_type": "code",
   "execution_count": null,
   "id": "5221a5a0",
   "metadata": {},
   "outputs": [],
   "source": [
    "print(nama_baru) #Mikhail Surya"
   ]
  },
  {
   "cell_type": "markdown",
   "id": "e4d37a49",
   "metadata": {},
   "source": [
    "Perkalian feat string"
   ]
  },
  {
   "cell_type": "code",
   "execution_count": null,
   "id": "6defb18c",
   "metadata": {},
   "outputs": [],
   "source": [
    "print(nama_baru * 3) #Mikhail SuryaMikhail SuryaMikhail Surya"
   ]
  },
  {
   "cell_type": "markdown",
   "id": "b772d242",
   "metadata": {},
   "source": [
    "Method upper (All capital letter)"
   ]
  },
  {
   "cell_type": "code",
   "execution_count": null,
   "id": "d1e6fcb2",
   "metadata": {},
   "outputs": [],
   "source": [
    "nama_baru.upper() # 'MIKHAIL SURYA'"
   ]
  },
  {
   "cell_type": "markdown",
   "id": "f1e05d61",
   "metadata": {},
   "source": [
    "Method lower (All lower letter)"
   ]
  },
  {
   "cell_type": "code",
   "execution_count": null,
   "id": "a66dddb1",
   "metadata": {},
   "outputs": [],
   "source": [
    "nama_baru.lower() # 'michael surya'"
   ]
  },
  {
   "cell_type": "markdown",
   "id": "f49c2217",
   "metadata": {},
   "source": [
    "Method Split (Memisahkan 1 string jadi beberapa string berdasarkan ketentuan (default whitespace))"
   ]
  },
  {
   "cell_type": "code",
   "execution_count": null,
   "id": "9f988883",
   "metadata": {},
   "outputs": [],
   "source": [
    "nama_baru.split() # ['Mikhail', 'Surya']"
   ]
  }
 ],
 "metadata": {
  "kernelspec": {
   "display_name": "Python 3 (ipykernel)",
   "language": "python",
   "name": "python3"
  },
  "language_info": {
   "codemirror_mode": {
    "name": "ipython",
    "version": 3
   },
   "file_extension": ".py",
   "mimetype": "text/x-python",
   "name": "python",
   "nbconvert_exporter": "python",
   "pygments_lexer": "ipython3",
   "version": "3.11.3"
  }
 },
 "nbformat": 4,
 "nbformat_minor": 5
}
