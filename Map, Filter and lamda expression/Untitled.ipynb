{
 "cells": [
  {
   "cell_type": "markdown",
   "id": "da12d32e",
   "metadata": {},
   "source": [
    "Map, pass parameter as a list to use it in function by iterate"
   ]
  },
  {
   "cell_type": "code",
   "execution_count": 2,
   "id": "77867351",
   "metadata": {},
   "outputs": [],
   "source": [
    "def square(num):\n",
    "    return num**2"
   ]
  },
  {
   "cell_type": "code",
   "execution_count": null,
   "id": "3bdb8d11",
   "metadata": {},
   "outputs": [],
   "source": [
    "for result in map(square,[1, 3, 2, 6, 8]):\n",
    "    print(result) # can read all the list just one line code :)"
   ]
  },
  {
   "cell_type": "code",
   "execution_count": 6,
   "id": "b7a78bac",
   "metadata": {},
   "outputs": [
    {
     "data": {
      "text/plain": [
       "[1, 9, 4, 36, 64]"
      ]
     },
     "execution_count": 6,
     "metadata": {},
     "output_type": "execute_result"
    }
   ],
   "source": [
    "list(map(square,[1, 3, 2, 6, 8])) #change it to list again"
   ]
  },
  {
   "cell_type": "code",
   "execution_count": 10,
   "id": "cf39cba1",
   "metadata": {},
   "outputs": [],
   "source": [
    "def check_even_string(mystring):\n",
    "    if len(mystring) % 2 == 0:\n",
    "        return 'Even'\n",
    "    else:\n",
    "        return mystring"
   ]
  },
  {
   "cell_type": "code",
   "execution_count": 11,
   "id": "51e387cb",
   "metadata": {},
   "outputs": [
    {
     "name": "stdout",
     "output_type": "stream",
     "text": [
      "Surya\n",
      "Even\n",
      "Makan\n",
      "Sushi\n"
     ]
    }
   ],
   "source": [
    "for result in map(check_even_string,['Surya', 'Tata', 'Makan', 'Sushi']):\n",
    "    print(result)"
   ]
  },
  {
   "cell_type": "code",
   "execution_count": 12,
   "id": "55887058",
   "metadata": {},
   "outputs": [
    {
     "data": {
      "text/plain": [
       "['Surya', 'Even', 'Makan', 'Sushi']"
      ]
     },
     "execution_count": 12,
     "metadata": {},
     "output_type": "execute_result"
    }
   ],
   "source": [
    "list(map(check_even_string,['Surya', 'Tata', 'Makan', 'Sushi']))"
   ]
  },
  {
   "cell_type": "markdown",
   "id": "5202bafb",
   "metadata": {},
   "source": [
    "Filter, filtering array with requirement"
   ]
  },
  {
   "cell_type": "code",
   "execution_count": 13,
   "id": "bb90e2f9",
   "metadata": {},
   "outputs": [],
   "source": [
    "def check_even(number):\n",
    "    return number % 2 == 0"
   ]
  },
  {
   "cell_type": "code",
   "execution_count": null,
   "id": "f87b0aad",
   "metadata": {},
   "outputs": [],
   "source": [
    "for x in filter(check_even, [1, 5, 3, 2, 7, 8, 10]):\n",
    "    print(x) # 2 8 10"
   ]
  },
  {
   "cell_type": "code",
   "execution_count": 17,
   "id": "4085df8a",
   "metadata": {},
   "outputs": [
    {
     "data": {
      "text/plain": [
       "[2, 8, 10]"
      ]
     },
     "execution_count": 17,
     "metadata": {},
     "output_type": "execute_result"
    }
   ],
   "source": [
    "list(filter(check_even, [1, 5, 3, 2, 7, 8, 10]))"
   ]
  },
  {
   "cell_type": "markdown",
   "id": "58a6947e",
   "metadata": {},
   "source": [
    "Lambda function, instant use the function, u don't need to call it! lambda has'nt name!"
   ]
  },
  {
   "cell_type": "code",
   "execution_count": 24,
   "id": "fb3a3fc2",
   "metadata": {},
   "outputs": [
    {
     "data": {
      "text/plain": [
       "<function __main__.<lambda>(square)>"
      ]
     },
     "execution_count": 24,
     "metadata": {},
     "output_type": "execute_result"
    }
   ],
   "source": [
    "result = lambda square: print(square**2)"
   ]
  },
  {
   "cell_type": "code",
   "execution_count": 22,
   "id": "e094e542",
   "metadata": {},
   "outputs": [
    {
     "name": "stdout",
     "output_type": "stream",
     "text": [
      "25\n"
     ]
    }
   ],
   "source": [
    "result(5) # a function make square"
   ]
  },
  {
   "cell_type": "markdown",
   "id": "76de5d4d",
   "metadata": {},
   "source": [
    "Because lambda is function, you can still combining it with map and filter!"
   ]
  },
  {
   "cell_type": "code",
   "execution_count": 28,
   "id": "2e6505d5",
   "metadata": {},
   "outputs": [
    {
     "name": "stdout",
     "output_type": "stream",
     "text": [
      "S\n",
      "T\n",
      "M\n",
      "S\n"
     ]
    }
   ],
   "source": [
    "for result in map(lambda initial: initial[0], ['Surya', 'Tata', 'Makan', 'Sushi']):\n",
    "    print(result)"
   ]
  },
  {
   "cell_type": "code",
   "execution_count": 30,
   "id": "e240e04c",
   "metadata": {},
   "outputs": [
    {
     "name": "stdout",
     "output_type": "stream",
     "text": [
      "2\n",
      "8\n",
      "10\n"
     ]
    }
   ],
   "source": [
    "for result in filter(lambda even: even % 2 ==0, [1, 5, 3, 2, 7, 8, 10]):\n",
    "    print(result)"
   ]
  },
  {
   "cell_type": "code",
   "execution_count": null,
   "id": "8bdafb89",
   "metadata": {},
   "outputs": [],
   "source": []
  }
 ],
 "metadata": {
  "kernelspec": {
   "display_name": "Python 3 (ipykernel)",
   "language": "python",
   "name": "python3"
  },
  "language_info": {
   "codemirror_mode": {
    "name": "ipython",
    "version": 3
   },
   "file_extension": ".py",
   "mimetype": "text/x-python",
   "name": "python",
   "nbconvert_exporter": "python",
   "pygments_lexer": "ipython3",
   "version": "3.11.3"
  }
 },
 "nbformat": 4,
 "nbformat_minor": 5
}
