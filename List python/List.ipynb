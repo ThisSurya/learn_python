{
 "cells": [
  {
   "cell_type": "markdown",
   "id": "920005fc",
   "metadata": {},
   "source": [
    "Mutable"
   ]
  },
  {
   "cell_type": "code",
   "execution_count": 31,
   "id": "fa4335a2",
   "metadata": {},
   "outputs": [],
   "source": [
    "my_list = ['one', 'two', 'three']"
   ]
  },
  {
   "cell_type": "code",
   "execution_count": 32,
   "id": "efec6cf2",
   "metadata": {},
   "outputs": [],
   "source": [
    "my_list[0] = 2 "
   ]
  },
  {
   "cell_type": "code",
   "execution_count": 33,
   "id": "963771fe",
   "metadata": {},
   "outputs": [
    {
     "data": {
      "text/plain": [
       "[2, 'two', 'three']"
      ]
     },
     "execution_count": 33,
     "metadata": {},
     "output_type": "execute_result"
    }
   ],
   "source": [
    "my_list # [2, 'two', 'three']"
   ]
  },
  {
   "cell_type": "markdown",
   "id": "b8026aa0",
   "metadata": {},
   "source": [
    "constantiate (disatukan dengan array lain)"
   ]
  },
  {
   "cell_type": "code",
   "execution_count": 34,
   "id": "fd11ad1c",
   "metadata": {},
   "outputs": [],
   "source": [
    "new_list = ['four', 'five']"
   ]
  },
  {
   "cell_type": "code",
   "execution_count": 35,
   "id": "ad68f895",
   "metadata": {},
   "outputs": [],
   "source": [
    "result_list = my_list + new_list"
   ]
  },
  {
   "cell_type": "code",
   "execution_count": 36,
   "id": "c5e36766",
   "metadata": {},
   "outputs": [
    {
     "data": {
      "text/plain": [
       "[2, 'two', 'three', 'four', 'five']"
      ]
     },
     "execution_count": 36,
     "metadata": {},
     "output_type": "execute_result"
    }
   ],
   "source": [
    "result_list # [2, 'two', 'three', 'four', 'five']"
   ]
  },
  {
   "cell_type": "markdown",
   "id": "ea44ca29",
   "metadata": {},
   "source": [
    "Method append() #menambah ke array"
   ]
  },
  {
   "cell_type": "code",
   "execution_count": 37,
   "id": "bb445c5a",
   "metadata": {},
   "outputs": [],
   "source": [
    "result_list.append('six')"
   ]
  },
  {
   "cell_type": "code",
   "execution_count": 38,
   "id": "c130b8d6",
   "metadata": {},
   "outputs": [
    {
     "data": {
      "text/plain": [
       "[2, 'two', 'three', 'four', 'five', 'six']"
      ]
     },
     "execution_count": 38,
     "metadata": {},
     "output_type": "execute_result"
    }
   ],
   "source": [
    "result_list # [2, 'two', 'three', 'four', 'five', 'six']"
   ]
  },
  {
   "cell_type": "markdown",
   "id": "a97cadbd",
   "metadata": {},
   "source": [
    "Method pop() # value array terakhir"
   ]
  },
  {
   "cell_type": "code",
   "execution_count": null,
   "id": "3d1b30fa",
   "metadata": {},
   "outputs": [],
   "source": [
    "result_list.pop() # six"
   ]
  },
  {
   "cell_type": "markdown",
   "id": "be4b4569",
   "metadata": {},
   "source": [
    "Bisa juga untuk mengambil nilai dari array terakhir"
   ]
  },
  {
   "cell_type": "code",
   "execution_count": 40,
   "id": "d5a9d881",
   "metadata": {},
   "outputs": [],
   "source": [
    "pop_item = result_list.pop()"
   ]
  },
  {
   "cell_type": "code",
   "execution_count": 42,
   "id": "0f093023",
   "metadata": {},
   "outputs": [
    {
     "data": {
      "text/plain": [
       "[2, 'two', 'three', 'four']"
      ]
     },
     "execution_count": 42,
     "metadata": {},
     "output_type": "execute_result"
    }
   ],
   "source": [
    "result_list # [2, 'two', 'three', 'four'] udah diambil dari result_list.pop() sebelumnya"
   ]
  },
  {
   "cell_type": "markdown",
   "id": "9a2e9edd",
   "metadata": {},
   "source": [
    "pop(), parameter untuk mengambil berdasarkan index"
   ]
  },
  {
   "cell_type": "code",
   "execution_count": 43,
   "id": "67831256",
   "metadata": {},
   "outputs": [],
   "source": [
    "pop_item = result_list.pop(1) # ambil two"
   ]
  },
  {
   "cell_type": "code",
   "execution_count": null,
   "id": "17ede8d5",
   "metadata": {},
   "outputs": [],
   "source": [
    "result_list # [2, 'three', 'four']"
   ]
  },
  {
   "cell_type": "markdown",
   "id": "ca300fbb",
   "metadata": {},
   "source": [
    "Method sort() #mengurukan karakter/abjad, angka"
   ]
  },
  {
   "cell_type": "code",
   "execution_count": 46,
   "id": "27939fd5",
   "metadata": {},
   "outputs": [],
   "source": [
    "new_result = [1, 6, 2, 4, 1, 7, 5]"
   ]
  },
  {
   "cell_type": "code",
   "execution_count": 47,
   "id": "bcb0feb2",
   "metadata": {},
   "outputs": [],
   "source": [
    "new_result.sort()"
   ]
  },
  {
   "cell_type": "code",
   "execution_count": null,
   "id": "087e85a9",
   "metadata": {},
   "outputs": [],
   "source": [
    "new_result # [1, 1, 2, 4, 5, 6, 7]"
   ]
  },
  {
   "cell_type": "code",
   "execution_count": 51,
   "id": "f9660b6a",
   "metadata": {},
   "outputs": [],
   "source": [
    "new_result = ['a', 'd', 'c', 'b', 'y', 'h', 'p']"
   ]
  },
  {
   "cell_type": "code",
   "execution_count": 52,
   "id": "f0bc04ea",
   "metadata": {},
   "outputs": [],
   "source": [
    "new_result.sort()"
   ]
  },
  {
   "cell_type": "code",
   "execution_count": null,
   "id": "669246b5",
   "metadata": {},
   "outputs": [],
   "source": [
    "new_result # ['a', 'b', 'c', 'd', 'h', 'p', 'y']"
   ]
  },
  {
   "cell_type": "code",
   "execution_count": null,
   "id": "c5835186",
   "metadata": {},
   "outputs": [],
   "source": []
  }
 ],
 "metadata": {
  "kernelspec": {
   "display_name": "Python 3 (ipykernel)",
   "language": "python",
   "name": "python3"
  },
  "language_info": {
   "codemirror_mode": {
    "name": "ipython",
    "version": 3
   },
   "file_extension": ".py",
   "mimetype": "text/x-python",
   "name": "python",
   "nbconvert_exporter": "python",
   "pygments_lexer": "ipython3",
   "version": "3.11.3"
  }
 },
 "nbformat": 4,
 "nbformat_minor": 5
}
