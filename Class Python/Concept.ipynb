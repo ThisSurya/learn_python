{
 "cells": [
  {
   "cell_type": "markdown",
   "id": "46d98bd5",
   "metadata": {},
   "source": [
    "OOP python"
   ]
  },
  {
   "cell_type": "code",
   "execution_count": 9,
   "id": "78887ed6",
   "metadata": {},
   "outputs": [],
   "source": [
    "class people():\n",
    "    def __init__(self,name,age):\n",
    "        self.name = name\n",
    "        self.age = age"
   ]
  },
  {
   "cell_type": "code",
   "execution_count": 11,
   "id": "8015ed72",
   "metadata": {},
   "outputs": [],
   "source": [
    "surya = people('Surya', 18)"
   ]
  },
  {
   "cell_type": "code",
   "execution_count": 13,
   "id": "c0835f6b",
   "metadata": {},
   "outputs": [
    {
     "name": "stdout",
     "output_type": "stream",
     "text": [
      "Surya\n"
     ]
    }
   ],
   "source": [
    "print(surya.name)"
   ]
  },
  {
   "cell_type": "code",
   "execution_count": null,
   "id": "dfb6c2d5",
   "metadata": {},
   "outputs": [],
   "source": []
  }
 ],
 "metadata": {
  "kernelspec": {
   "display_name": "Python 3 (ipykernel)",
   "language": "python",
   "name": "python3"
  },
  "language_info": {
   "codemirror_mode": {
    "name": "ipython",
    "version": 3
   },
   "file_extension": ".py",
   "mimetype": "text/x-python",
   "name": "python",
   "nbconvert_exporter": "python",
   "pygments_lexer": "ipython3",
   "version": "3.11.3"
  }
 },
 "nbformat": 4,
 "nbformat_minor": 5
}
