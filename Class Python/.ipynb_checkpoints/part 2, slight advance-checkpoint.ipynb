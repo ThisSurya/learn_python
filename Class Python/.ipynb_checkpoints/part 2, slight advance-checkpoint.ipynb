{
 "cells": [
  {
   "cell_type": "code",
   "execution_count": 11,
   "id": "bc24c258",
   "metadata": {},
   "outputs": [],
   "source": [
    "class circle():\n",
    "    pi = 3.14\n",
    "    def __init__(self, radius):\n",
    "        self.radius = radius # may self is same as this?\n",
    "        print('New circle added!!')\n",
    "    \n",
    "    def getArea(self):\n",
    "       return self.radius ** 2 * self.pi"
   ]
  },
  {
   "cell_type": "code",
   "execution_count": 12,
   "id": "34313cd6",
   "metadata": {},
   "outputs": [
    {
     "name": "stdout",
     "output_type": "stream",
     "text": [
      "New circle added!!\n"
     ]
    }
   ],
   "source": [
    "mycircle = circle(8)"
   ]
  },
  {
   "cell_type": "code",
   "execution_count": 13,
   "id": "38fab27a",
   "metadata": {},
   "outputs": [
    {
     "data": {
      "text/plain": [
       "200.96"
      ]
     },
     "execution_count": 13,
     "metadata": {},
     "output_type": "execute_result"
    }
   ],
   "source": [
    "mycircle.getArea()"
   ]
  },
  {
   "cell_type": "code",
   "execution_count": null,
   "id": "708e1f19",
   "metadata": {},
   "outputs": [],
   "source": []
  }
 ],
 "metadata": {
  "kernelspec": {
   "display_name": "Python 3 (ipykernel)",
   "language": "python",
   "name": "python3"
  },
  "language_info": {
   "codemirror_mode": {
    "name": "ipython",
    "version": 3
   },
   "file_extension": ".py",
   "mimetype": "text/x-python",
   "name": "python",
   "nbconvert_exporter": "python",
   "pygments_lexer": "ipython3",
   "version": "3.11.3"
  }
 },
 "nbformat": 4,
 "nbformat_minor": 5
}
