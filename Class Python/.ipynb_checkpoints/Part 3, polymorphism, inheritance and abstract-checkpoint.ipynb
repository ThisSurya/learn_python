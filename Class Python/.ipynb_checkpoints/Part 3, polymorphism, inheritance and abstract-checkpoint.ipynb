{
 "cells": [
  {
   "cell_type": "markdown",
   "id": "805ecb47",
   "metadata": {},
   "source": [
    "Inherit"
   ]
  },
  {
   "cell_type": "code",
   "execution_count": 16,
   "id": "e4530d10",
   "metadata": {},
   "outputs": [],
   "source": [
    "class animal():\n",
    "    def __init__(self):\n",
    "        print('New Animal created')\n",
    "    \n",
    "    def name(self):\n",
    "        print('I am an animal')\n",
    "    \n",
    "    def eat(self):\n",
    "        print('i can eat something...')"
   ]
  },
  {
   "cell_type": "code",
   "execution_count": 22,
   "id": "9b8e194e",
   "metadata": {},
   "outputs": [],
   "source": [
    "class Dog(animal):\n",
    "    def __init__(self):\n",
    "        animal.__init__(self)\n",
    "        print('new dog born!')\n",
    "        \n",
    "    def name(self):\n",
    "        print('I am a dog call me')\n",
    "        \n",
    "    def eat(self):\n",
    "        print('i love bones and raw meat')\n",
    "        \n",
    "    def bark(self):\n",
    "        print('Woof')"
   ]
  },
  {
   "cell_type": "code",
   "execution_count": 26,
   "id": "2c9b16ed",
   "metadata": {},
   "outputs": [],
   "source": [
    "class Cat(animal):\n",
    "    def __init__(self):\n",
    "        animal.__init__(self)\n",
    "        print('new cat born!')\n",
    "        \n",
    "    def name(self):\n",
    "        print('I am a Cat')\n",
    "        \n",
    "    def eat(self):\n",
    "        print('i love fiish especially fresh from the sea')\n",
    "        \n",
    "    def bark(self):\n",
    "        print('meow')"
   ]
  },
  {
   "cell_type": "code",
   "execution_count": 23,
   "id": "36d3eee0",
   "metadata": {},
   "outputs": [
    {
     "name": "stdout",
     "output_type": "stream",
     "text": [
      "New Animal created\n",
      "new dog born!\n"
     ]
    }
   ],
   "source": [
    "mypet = Dog()"
   ]
  },
  {
   "cell_type": "code",
   "execution_count": 24,
   "id": "7da3b0db",
   "metadata": {},
   "outputs": [
    {
     "name": "stdout",
     "output_type": "stream",
     "text": [
      "I am a dog call me\n"
     ]
    }
   ],
   "source": [
    "mypet.name()"
   ]
  },
  {
   "cell_type": "code",
   "execution_count": 27,
   "id": "82dcbd26",
   "metadata": {},
   "outputs": [
    {
     "name": "stdout",
     "output_type": "stream",
     "text": [
      "New Animal created\n",
      "new cat born!\n"
     ]
    }
   ],
   "source": [
    "mypet1 = Cat()"
   ]
  },
  {
   "cell_type": "markdown",
   "id": "25fd57c7",
   "metadata": {},
   "source": [
    "Polymorphism, call the same method of two class"
   ]
  },
  {
   "cell_type": "code",
   "execution_count": 32,
   "id": "66cd72ff",
   "metadata": {},
   "outputs": [],
   "source": [
    "class Dog():\n",
    "    def __init__(self, name):\n",
    "        self.name = name\n",
    "        print('New Dog is born')\n",
    "    \n",
    "    def speak(self):\n",
    "        return self.name + ' just barking!!!'"
   ]
  },
  {
   "cell_type": "code",
   "execution_count": 33,
   "id": "7588594f",
   "metadata": {},
   "outputs": [],
   "source": [
    "class Cat():\n",
    "    def __init__(self, name):\n",
    "        self.name = name\n",
    "        print('New Cat is born')\n",
    "    \n",
    "    def speak(self):\n",
    "        return self.name + ' Says Meow!!!'"
   ]
  },
  {
   "cell_type": "code",
   "execution_count": 34,
   "id": "0aa6e15b",
   "metadata": {},
   "outputs": [
    {
     "name": "stdout",
     "output_type": "stream",
     "text": [
      "New Dog is born\n"
     ]
    }
   ],
   "source": [
    "ferdi = Dog('ferdi')\n",
    "ferdi.speak()"
   ]
  },
  {
   "cell_type": "code",
   "execution_count": 36,
   "id": "b543ae01",
   "metadata": {},
   "outputs": [
    {
     "name": "stdout",
     "output_type": "stream",
     "text": [
      "New Cat is born\n"
     ]
    }
   ],
   "source": [
    "fishy = Cat('fishy')\n",
    "fishy.speak()"
   ]
  },
  {
   "cell_type": "code",
   "execution_count": 38,
   "id": "ad2315ea",
   "metadata": {},
   "outputs": [],
   "source": [
    "# this is polymorphism\n",
    "def pet_speak(pet):\n",
    "    return pet.speak()"
   ]
  },
  {
   "cell_type": "code",
   "execution_count": 39,
   "id": "3a7dcd54",
   "metadata": {},
   "outputs": [
    {
     "data": {
      "text/plain": [
       "'fishy Says Meow!!!'"
      ]
     },
     "execution_count": 39,
     "metadata": {},
     "output_type": "execute_result"
    }
   ],
   "source": [
    "pet_speak(fishy)"
   ]
  },
  {
   "cell_type": "code",
   "execution_count": 40,
   "id": "6e1ad2ed",
   "metadata": {},
   "outputs": [
    {
     "data": {
      "text/plain": [
       "'ferdi just barking!!!'"
      ]
     },
     "execution_count": 40,
     "metadata": {},
     "output_type": "execute_result"
    }
   ],
   "source": [
    "pet_speak(ferdi)"
   ]
  },
  {
   "cell_type": "markdown",
   "id": "a2822d73",
   "metadata": {},
   "source": [
    "Abstract, you can call the function inside abstract class if you have overwrite the function inside inherited class"
   ]
  },
  {
   "cell_type": "code",
   "execution_count": 51,
   "id": "58d5b707",
   "metadata": {},
   "outputs": [],
   "source": [
    "class Animal():\n",
    "    def __init__(self, name):\n",
    "        self.name = name\n",
    "        print('An animal has reborn!!')\n",
    "    \n",
    "    def speak(self):\n",
    "        raise NotImplementedError('You must use subclass to use this method!')"
   ]
  },
  {
   "cell_type": "code",
   "execution_count": 52,
   "id": "c865c903",
   "metadata": {},
   "outputs": [],
   "source": [
    "class lion(Animal):\n",
    "    \n",
    "    def speak(self):\n",
    "        return self.name + ' roarrr'"
   ]
  },
  {
   "cell_type": "code",
   "execution_count": 53,
   "id": "b198b470",
   "metadata": {},
   "outputs": [
    {
     "name": "stdout",
     "output_type": "stream",
     "text": [
      "An animal has reborn!!\n"
     ]
    }
   ],
   "source": [
    "andi = lion('andi')"
   ]
  },
  {
   "cell_type": "code",
   "execution_count": 54,
   "id": "be4f4e62",
   "metadata": {},
   "outputs": [
    {
     "data": {
      "text/plain": [
       "'andi roarrr'"
      ]
     },
     "execution_count": 54,
     "metadata": {},
     "output_type": "execute_result"
    }
   ],
   "source": [
    "andi.speak()"
   ]
  },
  {
   "cell_type": "code",
   "execution_count": 56,
   "id": "281131eb",
   "metadata": {},
   "outputs": [
    {
     "name": "stdout",
     "output_type": "stream",
     "text": [
      "An animal has reborn!!\n"
     ]
    }
   ],
   "source": [
    "myAnimal = Animal('Jotnar')"
   ]
  },
  {
   "cell_type": "code",
   "execution_count": 58,
   "id": "9f19b3e8",
   "metadata": {},
   "outputs": [
    {
     "ename": "NotImplementedError",
     "evalue": "You must use subclass to use this method!",
     "output_type": "error",
     "traceback": [
      "\u001b[1;31m---------------------------------------------------------------------------\u001b[0m",
      "\u001b[1;31mNotImplementedError\u001b[0m                       Traceback (most recent call last)",
      "Cell \u001b[1;32mIn[58], line 1\u001b[0m\n\u001b[1;32m----> 1\u001b[0m myAnimal\u001b[38;5;241m.\u001b[39mspeak()\n",
      "Cell \u001b[1;32mIn[51], line 7\u001b[0m, in \u001b[0;36mAnimal.speak\u001b[1;34m(self)\u001b[0m\n\u001b[0;32m      6\u001b[0m \u001b[38;5;28;01mdef\u001b[39;00m \u001b[38;5;21mspeak\u001b[39m(\u001b[38;5;28mself\u001b[39m):\n\u001b[1;32m----> 7\u001b[0m     \u001b[38;5;28;01mraise\u001b[39;00m \u001b[38;5;167;01mNotImplementedError\u001b[39;00m(\u001b[38;5;124m'\u001b[39m\u001b[38;5;124mYou must use subclass to use this method!\u001b[39m\u001b[38;5;124m'\u001b[39m)\n",
      "\u001b[1;31mNotImplementedError\u001b[0m: You must use subclass to use this method!"
     ]
    }
   ],
   "source": [
    "myAnimal.speak()"
   ]
  },
  {
   "cell_type": "code",
   "execution_count": null,
   "id": "0a39d62f",
   "metadata": {},
   "outputs": [],
   "source": []
  }
 ],
 "metadata": {
  "kernelspec": {
   "display_name": "Python 3 (ipykernel)",
   "language": "python",
   "name": "python3"
  },
  "language_info": {
   "codemirror_mode": {
    "name": "ipython",
    "version": 3
   },
   "file_extension": ".py",
   "mimetype": "text/x-python",
   "name": "python",
   "nbconvert_exporter": "python",
   "pygments_lexer": "ipython3",
   "version": "3.11.3"
  }
 },
 "nbformat": 4,
 "nbformat_minor": 5
}
