{
 "cells": [
  {
   "cell_type": "markdown",
   "id": "f082e9c7",
   "metadata": {},
   "source": [
    "OOP python"
   ]
  },
  {
   "cell_type": "code",
   "execution_count": 3,
   "id": "7a061ad8",
   "metadata": {},
   "outputs": [],
   "source": [
    "class people():\n",
    "    def _init_(self, name, age):\n",
    "        self.name = name\n",
    "        self.age = age"
   ]
  },
  {
   "cell_type": "code",
   "execution_count": 5,
   "id": "5c94ec7a",
   "metadata": {},
   "outputs": [],
   "source": [
    "surya = people()"
   ]
  },
  {
   "cell_type": "code",
   "execution_count": null,
   "id": "75edff2c",
   "metadata": {},
   "outputs": [],
   "source": []
  }
 ],
 "metadata": {
  "kernelspec": {
   "display_name": "Python 3 (ipykernel)",
   "language": "python",
   "name": "python3"
  },
  "language_info": {
   "codemirror_mode": {
    "name": "ipython",
    "version": 3
   },
   "file_extension": ".py",
   "mimetype": "text/x-python",
   "name": "python",
   "nbconvert_exporter": "python",
   "pygments_lexer": "ipython3",
   "version": "3.11.3"
  }
 },
 "nbformat": 4,
 "nbformat_minor": 5
}
