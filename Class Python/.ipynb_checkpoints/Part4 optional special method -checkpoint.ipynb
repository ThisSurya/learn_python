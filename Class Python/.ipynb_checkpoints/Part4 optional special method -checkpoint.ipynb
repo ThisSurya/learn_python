{
 "cells": [
  {
   "cell_type": "markdown",
   "id": "09777fe0",
   "metadata": {},
   "source": [
    "Special method in classes"
   ]
  },
  {
   "cell_type": "code",
   "execution_count": 31,
   "id": "0e859667",
   "metadata": {},
   "outputs": [],
   "source": [
    "class magazine():\n",
    "    def __init__(self, name, pages):\n",
    "        self.name = name\n",
    "        self.pages = pages\n",
    "    \n",
    "    def __len__(self):\n",
    "        return self.pages\n",
    "    \n",
    "    def __str__(self):\n",
    "        return f'{self.name} total {self.pages} pages'"
   ]
  },
  {
   "cell_type": "code",
   "execution_count": 32,
   "id": "c1f1ea6c",
   "metadata": {},
   "outputs": [],
   "source": [
    "bobo = magazine('Bobo', 20)"
   ]
  },
  {
   "cell_type": "code",
   "execution_count": 33,
   "id": "bc720806",
   "metadata": {},
   "outputs": [
    {
     "name": "stdout",
     "output_type": "stream",
     "text": [
      "Bobo total 20 pages\n"
     ]
    }
   ],
   "source": [
    "print(bobo) # actually u can't use print() to a class, unless you declare a func __str__"
   ]
  },
  {
   "cell_type": "code",
   "execution_count": 14,
   "id": "e0e3de05",
   "metadata": {},
   "outputs": [
    {
     "data": {
      "text/plain": [
       "20"
      ]
     },
     "execution_count": 14,
     "metadata": {},
     "output_type": "execute_result"
    }
   ],
   "source": [
    "len(bobo) # actually u can't use len() to a class, unless you declare a func __len__"
   ]
  },
  {
   "cell_type": "code",
   "execution_count": 15,
   "id": "ecce4210",
   "metadata": {},
   "outputs": [
    {
     "name": "stdout",
     "output_type": "stream",
     "text": [
      "Bobo\n",
      "20\n"
     ]
    }
   ],
   "source": [
    "bobo.display()"
   ]
  },
  {
   "cell_type": "code",
   "execution_count": null,
   "id": "25d56618",
   "metadata": {},
   "outputs": [],
   "source": []
  }
 ],
 "metadata": {
  "kernelspec": {
   "display_name": "Python 3 (ipykernel)",
   "language": "python",
   "name": "python3"
  },
  "language_info": {
   "codemirror_mode": {
    "name": "ipython",
    "version": 3
   },
   "file_extension": ".py",
   "mimetype": "text/x-python",
   "name": "python",
   "nbconvert_exporter": "python",
   "pygments_lexer": "ipython3",
   "version": "3.11.3"
  }
 },
 "nbformat": 4,
 "nbformat_minor": 5
}
