{
 "cells": [
  {
   "cell_type": "markdown",
   "id": "c24a5ede",
   "metadata": {},
   "source": [
    "set() is only fillable with unique value"
   ]
  },
  {
   "cell_type": "code",
   "execution_count": 2,
   "id": "4b867a56",
   "metadata": {},
   "outputs": [],
   "source": [
    "my_set = [1, 1, 1, 2, 2, 2, 3, 4, 3, 3]"
   ]
  },
  {
   "cell_type": "code",
   "execution_count": null,
   "id": "721e11ef",
   "metadata": {},
   "outputs": [],
   "source": [
    "set(my_set) # {1, 2, 3, 4}"
   ]
  },
  {
   "cell_type": "markdown",
   "id": "36736bf8",
   "metadata": {},
   "source": [
    "Another ways"
   ]
  },
  {
   "cell_type": "code",
   "execution_count": 15,
   "id": "b0f39d5d",
   "metadata": {},
   "outputs": [],
   "source": [
    "my_set = set()"
   ]
  },
  {
   "cell_type": "code",
   "execution_count": 22,
   "id": "993e6fc6",
   "metadata": {},
   "outputs": [
    {
     "ename": "AttributeError",
     "evalue": "'set' object has no attribute 'append'",
     "output_type": "error",
     "traceback": [
      "\u001b[1;31m---------------------------------------------------------------------------\u001b[0m",
      "\u001b[1;31mAttributeError\u001b[0m                            Traceback (most recent call last)",
      "Cell \u001b[1;32mIn[22], line 1\u001b[0m\n\u001b[1;32m----> 1\u001b[0m my_set\u001b[38;5;241m.\u001b[39mappend(\u001b[38;5;241m1\u001b[39m)\n",
      "\u001b[1;31mAttributeError\u001b[0m: 'set' object has no attribute 'append'"
     ]
    }
   ],
   "source": [
    "my_set.add(1) # to add to the list (special fo set()) use add() not append()"
   ]
  },
  {
   "cell_type": "code",
   "execution_count": 21,
   "id": "c18bab08",
   "metadata": {},
   "outputs": [
    {
     "data": {
      "text/plain": [
       "{1}"
      ]
     },
     "execution_count": 21,
     "metadata": {},
     "output_type": "execute_result"
    }
   ],
   "source": [
    "my_set"
   ]
  }
 ],
 "metadata": {
  "kernelspec": {
   "display_name": "Python 3 (ipykernel)",
   "language": "python",
   "name": "python3"
  },
  "language_info": {
   "codemirror_mode": {
    "name": "ipython",
    "version": 3
   },
   "file_extension": ".py",
   "mimetype": "text/x-python",
   "name": "python",
   "nbconvert_exporter": "python",
   "pygments_lexer": "ipython3",
   "version": "3.11.3"
  }
 },
 "nbformat": 4,
 "nbformat_minor": 5
}
