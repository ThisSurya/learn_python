{
 "cells": [
  {
   "cell_type": "markdown",
   "id": "00539aca",
   "metadata": {},
   "source": [
    "try and except in python, try: attempt the code, except: if get error it will run except code"
   ]
  },
  {
   "cell_type": "code",
   "execution_count": 2,
   "id": "76f6e878",
   "metadata": {},
   "outputs": [],
   "source": [
    "def ask_input():\n",
    "    while True:\n",
    "        try:\n",
    "            result = int(input('Please input a random number!'))\n",
    "        except:\n",
    "            print('Thats isnt number, please try again')\n",
    "            continue\n",
    "        else:\n",
    "            print('Thanks!')\n",
    "            break"
   ]
  },
  {
   "cell_type": "code",
   "execution_count": 3,
   "id": "97e2840c",
   "metadata": {},
   "outputs": [
    {
     "name": "stdout",
     "output_type": "stream",
     "text": [
      "Please input a random number!sfd\n",
      "Thats isnt number, please try again\n",
      "Please input a random number!d\n",
      "Thats isnt number, please try again\n",
      "Please input a random number!1$\n",
      "Thats isnt number, please try again\n",
      "Please input a random number!^S\n",
      "Thats isnt number, please try again\n",
      "Please input a random number!1)\n",
      "Thats isnt number, please try again\n",
      "Please input a random number!10\n",
      "Thanks!\n"
     ]
    }
   ],
   "source": [
    "ask_input()"
   ]
  },
  {
   "cell_type": "code",
   "execution_count": null,
   "id": "026eec61",
   "metadata": {},
   "outputs": [],
   "source": []
  }
 ],
 "metadata": {
  "kernelspec": {
   "display_name": "Python 3 (ipykernel)",
   "language": "python",
   "name": "python3"
  },
  "language_info": {
   "codemirror_mode": {
    "name": "ipython",
    "version": 3
   },
   "file_extension": ".py",
   "mimetype": "text/x-python",
   "name": "python",
   "nbconvert_exporter": "python",
   "pygments_lexer": "ipython3",
   "version": "3.11.3"
  }
 },
 "nbformat": 4,
 "nbformat_minor": 5
}
