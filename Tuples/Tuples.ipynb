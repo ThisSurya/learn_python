{
 "cells": [
  {
   "cell_type": "markdown",
   "id": "12c1c634",
   "metadata": {},
   "source": [
    "Tuple is same as list, 11:12 with list. But the different key is Tuple is immutability"
   ]
  },
  {
   "cell_type": "code",
   "execution_count": 1,
   "id": "2769143c",
   "metadata": {},
   "outputs": [],
   "source": [
    "my_tuple = (1, 2, 3) #this is tuple"
   ]
  },
  {
   "cell_type": "code",
   "execution_count": 2,
   "id": "99ce0b57",
   "metadata": {},
   "outputs": [],
   "source": [
    "my_list = [1, 2, 3] #this is list"
   ]
  },
  {
   "cell_type": "code",
   "execution_count": 4,
   "id": "17dbdf14",
   "metadata": {},
   "outputs": [
    {
     "data": {
      "text/plain": [
       "3"
      ]
     },
     "execution_count": 4,
     "metadata": {},
     "output_type": "execute_result"
    }
   ],
   "source": [
    "len(my_tuple)"
   ]
  },
  {
   "cell_type": "code",
   "execution_count": 5,
   "id": "ce5cba5a",
   "metadata": {},
   "outputs": [],
   "source": [
    "my_list[0] = 4"
   ]
  },
  {
   "cell_type": "code",
   "execution_count": null,
   "id": "6d87f393",
   "metadata": {},
   "outputs": [],
   "source": [
    "my_tuple[0] = 4 #error"
   ]
  },
  {
   "cell_type": "markdown",
   "id": "e2b3e598",
   "metadata": {},
   "source": [
    "Only have 2 method count() and index()"
   ]
  },
  {
   "cell_type": "code",
   "execution_count": 10,
   "id": "885dde96",
   "metadata": {},
   "outputs": [],
   "source": [
    "my_tuple = (1, 2, 1, 5, 7)"
   ]
  },
  {
   "cell_type": "code",
   "execution_count": null,
   "id": "349617ea",
   "metadata": {},
   "outputs": [],
   "source": [
    "my_tuple.count(1) # count how many number you selected in array, can be use for letter? output : 2"
   ]
  },
  {
   "cell_type": "code",
   "execution_count": null,
   "id": "78e61e4b",
   "metadata": {},
   "outputs": [],
   "source": [
    "my_tuple.index(2) # find in the array, and gve output the index output: 1"
   ]
  },
  {
   "cell_type": "code",
   "execution_count": null,
   "id": "308864c8",
   "metadata": {},
   "outputs": [],
   "source": []
  },
  {
   "cell_type": "code",
   "execution_count": null,
   "id": "0bf2e0c7",
   "metadata": {},
   "outputs": [],
   "source": []
  }
 ],
 "metadata": {
  "kernelspec": {
   "display_name": "Python 3 (ipykernel)",
   "language": "python",
   "name": "python3"
  },
  "language_info": {
   "codemirror_mode": {
    "name": "ipython",
    "version": 3
   },
   "file_extension": ".py",
   "mimetype": "text/x-python",
   "name": "python",
   "nbconvert_exporter": "python",
   "pygments_lexer": "ipython3",
   "version": "3.11.3"
  }
 },
 "nbformat": 4,
 "nbformat_minor": 5
}
