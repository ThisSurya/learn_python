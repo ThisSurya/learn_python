{
 "cells": [
  {
   "cell_type": "markdown",
   "id": "7d1a302b",
   "metadata": {},
   "source": [
    "How 2 insert letter in the part of the string to another variable"
   ]
  },
  {
   "cell_type": "code",
   "execution_count": null,
   "id": "b3a60a8c",
   "metadata": {},
   "outputs": [],
   "source": [
    "my_word = []\n",
    "for x in 'Hello World':\n",
    "    my_word.append(x)\n",
    "my_word # ['H', 'e', 'l', 'l', 'o', ' ', 'W', 'o', 'r', 'l', 'd']"
   ]
  },
  {
   "cell_type": "markdown",
   "id": "0439b454",
   "metadata": {},
   "source": [
    "Faster way. letter is the most corner left is same as append(letter)!"
   ]
  },
  {
   "cell_type": "code",
   "execution_count": 5,
   "id": "2b0360d4",
   "metadata": {},
   "outputs": [],
   "source": [
    "my_word = [letter for letter in 'Hello World']"
   ]
  },
  {
   "cell_type": "code",
   "execution_count": null,
   "id": "7da87df7",
   "metadata": {},
   "outputs": [],
   "source": [
    "my_word # ['H', 'e', 'l', 'l', 'o', ' ', 'W', 'o', 'r', 'l', 'd']"
   ]
  },
  {
   "cell_type": "markdown",
   "id": "d17cd09e",
   "metadata": {},
   "source": [
    "Generator"
   ]
  },
  {
   "cell_type": "code",
   "execution_count": 7,
   "id": "831bdae9",
   "metadata": {},
   "outputs": [],
   "source": [
    "my_number = [x for x in range(10)]"
   ]
  }
 ],
 "metadata": {
  "kernelspec": {
   "display_name": "Python 3 (ipykernel)",
   "language": "python",
   "name": "python3"
  },
  "language_info": {
   "codemirror_mode": {
    "name": "ipython",
    "version": 3
   },
   "file_extension": ".py",
   "mimetype": "text/x-python",
   "name": "python",
   "nbconvert_exporter": "python",
   "pygments_lexer": "ipython3",
   "version": "3.11.3"
  }
 },
 "nbformat": 4,
 "nbformat_minor": 5
}
