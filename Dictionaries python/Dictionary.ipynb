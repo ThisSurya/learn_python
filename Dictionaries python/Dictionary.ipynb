{
 "cells": [
  {
   "cell_type": "markdown",
   "id": "6aac8bd7",
   "metadata": {},
   "source": [
    "Dictionary need a key ['key' : 'value', 'key2' : 'value2']"
   ]
  },
  {
   "cell_type": "code",
   "execution_count": 9,
   "id": "6cb2e933",
   "metadata": {},
   "outputs": [],
   "source": [
    "my_dictionary = {'name' : 'surya', 'age' : 17}"
   ]
  },
  {
   "cell_type": "code",
   "execution_count": 12,
   "id": "6c23c4fb",
   "metadata": {},
   "outputs": [
    {
     "data": {
      "text/plain": [
       "17"
      ]
     },
     "execution_count": 12,
     "metadata": {},
     "output_type": "execute_result"
    }
   ],
   "source": [
    "my_dictionary['age']"
   ]
  },
  {
   "cell_type": "code",
   "execution_count": 13,
   "id": "1133228b",
   "metadata": {},
   "outputs": [],
   "source": [
    "new_dictionary = {'name' : 'surya', 'age' : 17, 'biodata':['Michael Surya', 17, 'salary $2000000'], 'experience':{'2010': 'internship nvidia', '2013':'google stadia'}}"
   ]
  },
  {
   "cell_type": "code",
   "execution_count": null,
   "id": "0664fb97",
   "metadata": {},
   "outputs": [],
   "source": [
    "new_dictionary['biodata'][1] # use array in dictionary output: 17"
   ]
  },
  {
   "cell_type": "code",
   "execution_count": null,
   "id": "6766ca82",
   "metadata": {},
   "outputs": [],
   "source": [
    "new_dictionary['experience']['2010'] # nested dictionary output : internship nvidia"
   ]
  },
  {
   "cell_type": "markdown",
   "id": "10e155bc",
   "metadata": {},
   "source": [
    "add to the dictionary doesn't use append()!"
   ]
  },
  {
   "cell_type": "code",
   "execution_count": 25,
   "id": "0efd9bb0",
   "metadata": {},
   "outputs": [],
   "source": [
    "new_dictionary['education'] = ['oxford']"
   ]
  },
  {
   "cell_type": "code",
   "execution_count": null,
   "id": "44171c59",
   "metadata": {},
   "outputs": [],
   "source": [
    "new_dictionary"
   ]
  },
  {
   "cell_type": "markdown",
   "id": "6f03cff4",
   "metadata": {},
   "source": [
    "With method upper()"
   ]
  },
  {
   "cell_type": "code",
   "execution_count": null,
   "id": "d0e7e852",
   "metadata": {},
   "outputs": [],
   "source": [
    "new_dictionary['experience']['2010'].upper() #INTERNSHIP NVIDIA"
   ]
  },
  {
   "cell_type": "markdown",
   "id": "1bd68d83",
   "metadata": {},
   "source": [
    "keys(), values(), items()"
   ]
  },
  {
   "cell_type": "code",
   "execution_count": 28,
   "id": "f0b6234d",
   "metadata": {},
   "outputs": [
    {
     "data": {
      "text/plain": [
       "dict_keys(['name', 'age', 'biodata', 'experience', 'education'])"
      ]
     },
     "execution_count": 28,
     "metadata": {},
     "output_type": "execute_result"
    }
   ],
   "source": [
    "new_dictionary.keys()"
   ]
  },
  {
   "cell_type": "code",
   "execution_count": 29,
   "id": "3c93d08a",
   "metadata": {},
   "outputs": [
    {
     "data": {
      "text/plain": [
       "dict_values(['surya', 17, ['Michael Surya', 17, 'salary $2000000'], {'2010': 'internship nvidia', '2013': 'google stadia'}, ['oxford']])"
      ]
     },
     "execution_count": 29,
     "metadata": {},
     "output_type": "execute_result"
    }
   ],
   "source": [
    "new_dictionary.values()"
   ]
  },
  {
   "cell_type": "code",
   "execution_count": 30,
   "id": "0c4c4ccf",
   "metadata": {},
   "outputs": [
    {
     "data": {
      "text/plain": [
       "dict_items([('name', 'surya'), ('age', 17), ('biodata', ['Michael Surya', 17, 'salary $2000000']), ('experience', {'2010': 'internship nvidia', '2013': 'google stadia'}), ('education', ['oxford'])])"
      ]
     },
     "execution_count": 30,
     "metadata": {},
     "output_type": "execute_result"
    }
   ],
   "source": [
    "new_dictionary.items()"
   ]
  }
 ],
 "metadata": {
  "kernelspec": {
   "display_name": "Python 3 (ipykernel)",
   "language": "python",
   "name": "python3"
  },
  "language_info": {
   "codemirror_mode": {
    "name": "ipython",
    "version": 3
   },
   "file_extension": ".py",
   "mimetype": "text/x-python",
   "name": "python",
   "nbconvert_exporter": "python",
   "pygments_lexer": "ipython3",
   "version": "3.11.3"
  }
 },
 "nbformat": 4,
 "nbformat_minor": 5
}
