{
 "cells": [
  {
   "cell_type": "markdown",
   "id": "3bc8db6a",
   "metadata": {},
   "source": [
    "pass, continue, and break"
   ]
  },
  {
   "cell_type": "code",
   "execution_count": 1,
   "id": "817c0630",
   "metadata": {},
   "outputs": [],
   "source": [
    "x = [1, 2, 3, 4, 5, 6, 7]"
   ]
  },
  {
   "cell_type": "code",
   "execution_count": 5,
   "id": "c8c3e3c1",
   "metadata": {},
   "outputs": [
    {
     "name": "stdout",
     "output_type": "stream",
     "text": [
      "1\n",
      "2\n",
      "3\n",
      "5\n",
      "6\n",
      "7\n"
     ]
    }
   ],
   "source": [
    "for number in x:\n",
    "    if number == 4:\n",
    "        continue\n",
    "    print(number)\n",
    "\n",
    "# continue to go to top loop at the closes loop"
   ]
  },
  {
   "cell_type": "code",
   "execution_count": 7,
   "id": "2d12040f",
   "metadata": {},
   "outputs": [
    {
     "name": "stdout",
     "output_type": "stream",
     "text": [
      "1\n",
      "2\n",
      "3\n"
     ]
    }
   ],
   "source": [
    "for number in x:\n",
    "    if number == 4:\n",
    "        break\n",
    "    print(number)\n",
    "\n",
    "# break is stop the loop"
   ]
  },
  {
   "cell_type": "code",
   "execution_count": 10,
   "id": "7045a22c",
   "metadata": {},
   "outputs": [],
   "source": [
    "for number in x:\n",
    "    pass\n",
    "# doesn't do anything, it will useful while we write code in the loop next future"
   ]
  },
  {
   "cell_type": "code",
   "execution_count": null,
   "id": "242b67f3",
   "metadata": {},
   "outputs": [],
   "source": []
  }
 ],
 "metadata": {
  "kernelspec": {
   "display_name": "Python 3 (ipykernel)",
   "language": "python",
   "name": "python3"
  },
  "language_info": {
   "codemirror_mode": {
    "name": "ipython",
    "version": 3
   },
   "file_extension": ".py",
   "mimetype": "text/x-python",
   "name": "python",
   "nbconvert_exporter": "python",
   "pygments_lexer": "ipython3",
   "version": "3.11.3"
  }
 },
 "nbformat": 4,
 "nbformat_minor": 5
}
