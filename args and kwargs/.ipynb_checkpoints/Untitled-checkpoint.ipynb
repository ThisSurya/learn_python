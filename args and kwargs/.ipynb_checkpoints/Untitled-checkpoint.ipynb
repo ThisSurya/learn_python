{
 "cells": [
  {
   "cell_type": "markdown",
   "id": "9a6eda07",
   "metadata": {},
   "source": [
    "*args = pass all value in the parameter."
   ]
  },
  {
   "cell_type": "code",
   "execution_count": 5,
   "id": "cfec93a8",
   "metadata": {},
   "outputs": [],
   "source": [
    "def myex(a, b, c=0, d=0):\n",
    "    return sum((a,b,c,d))"
   ]
  },
  {
   "cell_type": "code",
   "execution_count": 8,
   "id": "c1a35c19",
   "metadata": {},
   "outputs": [],
   "source": [
    "result = myex(10, 20, 30)"
   ]
  },
  {
   "cell_type": "code",
   "execution_count": null,
   "id": "eadbaa87",
   "metadata": {},
   "outputs": [],
   "source": [
    "print(result) # 60"
   ]
  },
  {
   "cell_type": "markdown",
   "id": "95491303",
   "metadata": {},
   "source": [
    "Faster way"
   ]
  },
  {
   "cell_type": "code",
   "execution_count": 13,
   "id": "68ad15d7",
   "metadata": {},
   "outputs": [],
   "source": [
    "def myargs(*args): # passes all value, no matter how many parameter\n",
    "    return sum((args))"
   ]
  },
  {
   "cell_type": "code",
   "execution_count": null,
   "id": "1570b9d8",
   "metadata": {},
   "outputs": [],
   "source": [
    "result = myargs(10, 20, 30)\n",
    "print(result)"
   ]
  },
  {
   "cell_type": "markdown",
   "id": "212116ff",
   "metadata": {},
   "source": [
    "**kwargs = pass all key matched with value in parameter"
   ]
  },
  {
   "cell_type": "code",
   "execution_count": 19,
   "id": "129e1507",
   "metadata": {},
   "outputs": [],
   "source": [
    "def mykwargs(**kwargs):\n",
    "    if 'food' in kwargs:\n",
    "        print('i like to eat my food that is {}'.format(kwargs['food']))\n",
    "    else:\n",
    "        print('i dont eat?')"
   ]
  },
  {
   "cell_type": "code",
   "execution_count": 44,
   "id": "93d10b2c",
   "metadata": {},
   "outputs": [],
   "source": [
    "mykwargs(name='jotaro',age=27,food='radish')"
   ]
  },
  {
   "cell_type": "code",
   "execution_count": 113,
   "id": "1cdb9c0c",
   "metadata": {},
   "outputs": [],
   "source": [
    "def myfunc(word):\n",
    "    i = 0\n",
    "    text =\"\"\n",
    "    while i < len(word):\n",
    "        if(i % 2 != 0):\n",
    "            print(i)\n",
    "            text += word[i]\n",
    "        else:\n",
    "            \n",
    "            text += word[i].upper()\n",
    "        i += 1\n",
    "    return text"
   ]
  },
  {
   "cell_type": "code",
   "execution_count": 114,
   "id": "963bb9d6",
   "metadata": {},
   "outputs": [
    {
     "name": "stdout",
     "output_type": "stream",
     "text": [
      "1\n",
      "3\n"
     ]
    },
    {
     "data": {
      "text/plain": [
       "'SuRyA'"
      ]
     },
     "execution_count": 114,
     "metadata": {},
     "output_type": "execute_result"
    }
   ],
   "source": [
    "myfunc('Surya')"
   ]
  }
 ],
 "metadata": {
  "kernelspec": {
   "display_name": "Python 3 (ipykernel)",
   "language": "python",
   "name": "python3"
  },
  "language_info": {
   "codemirror_mode": {
    "name": "ipython",
    "version": 3
   },
   "file_extension": ".py",
   "mimetype": "text/x-python",
   "name": "python",
   "nbconvert_exporter": "python",
   "pygments_lexer": "ipython3",
   "version": "3.11.3"
  }
 },
 "nbformat": 4,
 "nbformat_minor": 5
}
