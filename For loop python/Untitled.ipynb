{
 "cells": [
  {
   "cell_type": "markdown",
   "id": "b301c5c7",
   "metadata": {},
   "source": [
    "For loops for tuple "
   ]
  },
  {
   "cell_type": "code",
   "execution_count": 1,
   "id": "03520491",
   "metadata": {},
   "outputs": [],
   "source": [
    "my_list = [(1, 2), (3, 4), (5, 6)]"
   ]
  },
  {
   "cell_type": "code",
   "execution_count": 3,
   "id": "33bc5b7d",
   "metadata": {},
   "outputs": [
    {
     "name": "stdout",
     "output_type": "stream",
     "text": [
      "1\n",
      "3\n",
      "5\n"
     ]
    }
   ],
   "source": [
    "for a,b in my_list:\n",
    "    print(a) #1 3 5"
   ]
  },
  {
   "cell_type": "code",
   "execution_count": 4,
   "id": "b2a2c795",
   "metadata": {},
   "outputs": [
    {
     "name": "stdout",
     "output_type": "stream",
     "text": [
      "(1, 2)\n",
      "(3, 4)\n",
      "(5, 6)\n"
     ]
    }
   ],
   "source": [
    "for item in my_list:\n",
    "    print(item) # (1, 2) (3, 4) (5, 6)"
   ]
  },
  {
   "cell_type": "markdown",
   "id": "cd5d270d",
   "metadata": {},
   "source": [
    "For loops for dictionary"
   ]
  },
  {
   "cell_type": "code",
   "execution_count": 7,
   "id": "ca63785f",
   "metadata": {},
   "outputs": [
    {
     "name": "stdout",
     "output_type": "stream",
     "text": [
      "key1\n",
      "key2\n",
      "key3\n",
      "key4\n"
     ]
    }
   ],
   "source": [
    "my_dictionary = {'key1' : 'value1', 'key2' : 'value2', 'key3' : 'value3', 'key4' : 'value4'}\n",
    "for item in my_dictionary:\n",
    "    print(item) #only print key1, key2...."
   ]
  },
  {
   "cell_type": "code",
   "execution_count": 10,
   "id": "64184f35",
   "metadata": {},
   "outputs": [
    {
     "name": "stdout",
     "output_type": "stream",
     "text": [
      "('key1', 'value1')\n",
      "('key2', 'value2')\n",
      "('key3', 'value3')\n",
      "('key4', 'value4')\n"
     ]
    }
   ],
   "source": [
    "for item in my_dictionary.items():\n",
    "    print(item)"
   ]
  },
  {
   "cell_type": "code",
   "execution_count": 13,
   "id": "75fb7263",
   "metadata": {},
   "outputs": [
    {
     "name": "stdout",
     "output_type": "stream",
     "text": [
      "key1 value1\n",
      "key2 value2\n",
      "key3 value3\n",
      "key4 value4\n"
     ]
    }
   ],
   "source": [
    "for a, b in my_dictionary.items():\n",
    "    print(f'{a} {b}')"
   ]
  },
  {
   "cell_type": "code",
   "execution_count": null,
   "id": "ad6aa204",
   "metadata": {},
   "outputs": [],
   "source": []
  }
 ],
 "metadata": {
  "kernelspec": {
   "display_name": "Python 3 (ipykernel)",
   "language": "python",
   "name": "python3"
  },
  "language_info": {
   "codemirror_mode": {
    "name": "ipython",
    "version": 3
   },
   "file_extension": ".py",
   "mimetype": "text/x-python",
   "name": "python",
   "nbconvert_exporter": "python",
   "pygments_lexer": "ipython3",
   "version": "3.11.3"
  }
 },
 "nbformat": 4,
 "nbformat_minor": 5
}
