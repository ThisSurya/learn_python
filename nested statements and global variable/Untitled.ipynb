{
 "cells": [
  {
   "cell_type": "markdown",
   "id": "b3ec46b2",
   "metadata": {},
   "source": [
    "Nested Statement"
   ]
  },
  {
   "cell_type": "code",
   "execution_count": 4,
   "id": "f1174b78",
   "metadata": {},
   "outputs": [
    {
     "name": "stdout",
     "output_type": "stream",
     "text": [
      "Hello jotaro\n"
     ]
    }
   ],
   "source": [
    "def declare_name():\n",
    "    name = 'jotaro'\n",
    "    def say_hello():\n",
    "        print('Hello ' + name)\n",
    "    say_hello()\n",
    "declare_name()\n",
    "    "
   ]
  },
  {
   "cell_type": "code",
   "execution_count": null,
   "id": "c446344b",
   "metadata": {},
   "outputs": [],
   "source": []
  }
 ],
 "metadata": {
  "kernelspec": {
   "display_name": "Python 3 (ipykernel)",
   "language": "python",
   "name": "python3"
  },
  "language_info": {
   "codemirror_mode": {
    "name": "ipython",
    "version": 3
   },
   "file_extension": ".py",
   "mimetype": "text/x-python",
   "name": "python",
   "nbconvert_exporter": "python",
   "pygments_lexer": "ipython3",
   "version": "3.11.3"
  }
 },
 "nbformat": 4,
 "nbformat_minor": 5
}
